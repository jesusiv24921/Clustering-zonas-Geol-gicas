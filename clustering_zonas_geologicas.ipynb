{
 "cells": [
  {
   "cell_type": "markdown",
   "metadata": {},
   "source": [
    "# Clustering de Zonas Geológicas\n",
    "\n",
    "El clustering de zonas geológicas es una técnica de agrupamiento que permite identificar patrones y similitudes entre diferentes intervalos geológicos dentro de un pozo o entre múltiples pozos. Estas agrupaciones son útiles para entender el comportamiento del yacimiento, identificar zonas con características similares y optimizar estrategias de desarrollo, como la selección de fluidos de inyección o el diseño de estimulaciones.\n",
    "\n",
    "El análisis considera variables clave como la **permeabilidad**, **porosidad** y el **diámetro de garganta de poro (R35)**, que se calcula a partir de la permeabilidad y porosidad mediante una relación empírica. Estas características geológicas se analizan para identificar clusters que representan diferentes zonas del yacimiento.\n",
    "\n",
    "\n",
    "## Contenido\n",
    "- [1 - Introducción](#1)\n",
    "  - [1.1 Objetivo](#1.1)\n",
    "- [2 - Imports Necesarios](#2)\n",
    "- [3 - Exploración](#3)\n",
    "  - [3.1 Datos](#3.1)\n",
    "  - [3.2 Visualización](#3.2)\n",
    "- [4 - Funciones Auxiliares](#4)\n",
    "  - [4.1 - Cálculo del R35](#4.1)\n",
    "  - [4.2 - Función de Escalado](#4.2)\n",
    "- [5 - Clustering K-Means](#5)\n",
    "- [6 - Clustering DBSCAN](#6)\n",
    "- [7 - Evaluación del Clustering](#7)\n",
    "  - [7.1 Visualización](#7.1)\n",
    "  - [7.2 Métricas de Evaluación](#7.2)\n"
   ]
  },
  {
   "cell_type": "markdown",
   "metadata": {},
   "source": [
    "<a name=\"1\"></a>\n",
    "\n",
    "## 1 - Introducción \n",
    "En este notebook, exploraremos el uso de técnicas de clustering para identificar patrones y similitudes en zonas geológicas de pozos petroleros. El análisis se centrará en agrupar zonas con características geológicas similares utilizando variables clave como:\n",
    "1. Permeabilidad (mD).\n",
    "2. Porosidad (%).\n",
    "3. Diámetro de garganta de poro (R35).\n",
    "\n",
    "Estas técnicas permiten identificar grupos homogéneos dentro de un yacimiento, lo que facilita la toma de decisiones para optimizar estrategias de inyección, estimulación y desarrollo del campo.\n",
    "\n",
    "<a name=\"1.1\"></a>\n",
    "\n",
    "### 1.1 Objetivo\n",
    "\n",
    "El objetivo de este estudio es aplicar algoritmos de clustering para identificar y analizar zonas geológicas con comportamientos similares dentro de uno o varios pozos. Usaremos datos históricos de mediciones geológicas (permeabilidad, porosidad y R35) para descubrir patrones que apoyen la planificación y optimización de las operaciones. Este análisis se realizará sobre un conjunto de datos estructurado en formato csv.\n"
   ]
  },
  {
   "cell_type": "markdown",
   "metadata": {},
   "source": [
    "<a name=\"2\"></a>\n",
    "## 2 - Imports Necesarios\n",
    "\n",
    "El siguiente bloque de código importará las bibliotecas necesarias para ejecutar este notebook.."
   ]
  },
  {
   "cell_type": "code",
   "execution_count": 61,
   "metadata": {},
   "outputs": [],
   "source": [
    "import pandas as pd\n",
    "import numpy as np\n",
    "import matplotlib.pyplot as plt\n",
    "import seaborn as sns\n",
    "import plotly.express as px\n",
    "import plotly.graph_objects as go\n",
    "import plotly.io as pio\n",
    "pio.renderers.default = 'notebook'\n",
    "from sklearn.preprocessing import StandardScaler"
   ]
  },
  {
   "cell_type": "markdown",
   "metadata": {},
   "source": [
    "<a name=\"2\"></a>\n",
    "## 3 - Exploración\n",
    "\n",
    "\n",
    "<a name=\"3.1\"></a>\n",
    "\n",
    "### 3.1 Datos\n",
    "\n",
    "Los datos utilizados en este análisis están almacenados en un archivo CSV y contienen las siguientes Columnas:\n",
    "* depth\n",
    "* permeability (mD)\n",
    "* porosity (%)\n",
    "\n",
    "Se encuentran valores de permeabilidad y porosidad cada 0.5 ft"
   ]
  },
  {
   "cell_type": "code",
   "execution_count": 62,
   "metadata": {},
   "outputs": [],
   "source": [
    "df=pd.read_csv('garganta_poro.csv')"
   ]
  },
  {
   "cell_type": "code",
   "execution_count": 63,
   "metadata": {},
   "outputs": [
    {
     "data": {
      "text/html": [
       "<div>\n",
       "<style scoped>\n",
       "    .dataframe tbody tr th:only-of-type {\n",
       "        vertical-align: middle;\n",
       "    }\n",
       "\n",
       "    .dataframe tbody tr th {\n",
       "        vertical-align: top;\n",
       "    }\n",
       "\n",
       "    .dataframe thead th {\n",
       "        text-align: right;\n",
       "    }\n",
       "</style>\n",
       "<table border=\"1\" class=\"dataframe\">\n",
       "  <thead>\n",
       "    <tr style=\"text-align: right;\">\n",
       "      <th></th>\n",
       "      <th>depth</th>\n",
       "      <th>permeability</th>\n",
       "      <th>porosity</th>\n",
       "      <th>Pozo</th>\n",
       "    </tr>\n",
       "  </thead>\n",
       "  <tbody>\n",
       "    <tr>\n",
       "      <th>0</th>\n",
       "      <td>7159.5</td>\n",
       "      <td>0.0</td>\n",
       "      <td>0.0</td>\n",
       "      <td>well1</td>\n",
       "    </tr>\n",
       "    <tr>\n",
       "      <th>1</th>\n",
       "      <td>7160.0</td>\n",
       "      <td>0.0</td>\n",
       "      <td>0.0</td>\n",
       "      <td>well1</td>\n",
       "    </tr>\n",
       "    <tr>\n",
       "      <th>2</th>\n",
       "      <td>7160.5</td>\n",
       "      <td>0.0</td>\n",
       "      <td>0.0</td>\n",
       "      <td>well1</td>\n",
       "    </tr>\n",
       "    <tr>\n",
       "      <th>3</th>\n",
       "      <td>7161.0</td>\n",
       "      <td>0.0</td>\n",
       "      <td>0.0</td>\n",
       "      <td>well1</td>\n",
       "    </tr>\n",
       "    <tr>\n",
       "      <th>4</th>\n",
       "      <td>7161.5</td>\n",
       "      <td>0.0</td>\n",
       "      <td>0.0</td>\n",
       "      <td>well1</td>\n",
       "    </tr>\n",
       "  </tbody>\n",
       "</table>\n",
       "</div>"
      ],
      "text/plain": [
       "    depth  permeability  porosity   Pozo\n",
       "0  7159.5           0.0       0.0  well1\n",
       "1  7160.0           0.0       0.0  well1\n",
       "2  7160.5           0.0       0.0  well1\n",
       "3  7161.0           0.0       0.0  well1\n",
       "4  7161.5           0.0       0.0  well1"
      ]
     },
     "execution_count": 63,
     "metadata": {},
     "output_type": "execute_result"
    }
   ],
   "source": [
    "#Se revisan los primeros 5 registros\n",
    "df.head()"
   ]
  },
  {
   "cell_type": "code",
   "execution_count": 64,
   "metadata": {},
   "outputs": [
    {
     "data": {
      "text/plain": [
       "depth           float64\n",
       "permeability    float64\n",
       "porosity        float64\n",
       "Pozo             object\n",
       "dtype: object"
      ]
     },
     "execution_count": 64,
     "metadata": {},
     "output_type": "execute_result"
    }
   ],
   "source": [
    "#Se verifica el tipo de datos\n",
    "df.dtypes"
   ]
  },
  {
   "cell_type": "code",
   "execution_count": 65,
   "metadata": {},
   "outputs": [
    {
     "name": "stdout",
     "output_type": "stream",
     "text": [
      "Estadísticas:\n",
      "              depth  permeability      porosity\n",
      "count  23719.000000  2.370700e+04  23712.000000\n",
      "mean    7942.802247  1.738222e+05     10.230358\n",
      "std      478.857097  1.124583e+06     43.610140\n",
      "min     7060.000000  0.000000e+00      0.000000\n",
      "25%     7568.500000  1.900000e-03      0.003200\n",
      "50%     7897.750000  2.599044e+02      0.155300\n",
      "75%     8218.125000  3.545505e+03      0.214600\n",
      "max     9260.000000  1.995900e+07    335.000000\n",
      "\n",
      "Valores Faltantes:\n",
      "depth            0\n",
      "permeability    12\n",
      "porosity         7\n",
      "Pozo             0\n",
      "dtype: int64\n"
     ]
    }
   ],
   "source": [
    "#Verificación de Estadísticas del df\n",
    "print(f'Estadísticas:\\n{df.describe()}\\n')\n",
    "\n",
    "print(f'Valores Faltantes:\\n{df.isnull().sum()}')"
   ]
  },
  {
   "cell_type": "markdown",
   "metadata": {},
   "source": [
    "Se observa que existen 12 valores faltantes con respecto la columna permeability y 7 conrespecto la columna porosity, en este tipo de casos hay que elegir cual es la mejor opción a reliazar si imputamos un valor anterior para rrelennar el faltante o tomamos alguna métrica de centralización como la media o eliminamos las filas con datos faltantes."
   ]
  },
  {
   "cell_type": "code",
   "execution_count": 66,
   "metadata": {},
   "outputs": [
    {
     "name": "stdout",
     "output_type": "stream",
     "text": [
      "Datos Faltantes a partir de columna porosidad:\n",
      "        depth  permeability  porosity    Pozo\n",
      "1212   7765.5           NaN       NaN   well1\n",
      "3544   7791.0           NaN       NaN   well2\n",
      "5685   8043.5           NaN       NaN   well3\n",
      "9672   8805.5           NaN       NaN   well5\n",
      "18429  7822.0           NaN       NaN   well8\n",
      "20224  7545.0           NaN       NaN   well9\n",
      "22720  8761.0           NaN       NaN  well10\n",
      "\n",
      "Datos Faltantes a partir de columna Permeabilidad:\n",
      "        depth  permeability  porosity    Pozo\n",
      "1212   7765.5           NaN       NaN   well1\n",
      "2211   8265.0           NaN    0.2048   well1\n",
      "3544   7791.0           NaN       NaN   well2\n",
      "4347   8192.5           NaN    0.0000   well2\n",
      "5685   8043.5           NaN       NaN   well3\n",
      "6273   8337.5           NaN    0.0000   well3\n",
      "7977   8032.0           NaN    0.1826   well4\n",
      "9672   8805.5           NaN       NaN   well5\n",
      "18429  7822.0           NaN       NaN   well8\n",
      "19253  8234.0           NaN    0.0000   well8\n",
      "20224  7545.0           NaN       NaN   well9\n",
      "22720  8761.0           NaN       NaN  well10\n"
     ]
    }
   ],
   "source": [
    "print(f'Datos Faltantes a partir de columna porosidad:\\n{df[df['porosity'].isna()]}\\n')\n",
    "print(f'Datos Faltantes a partir de columna Permeabilidad:\\n{df[df['permeability'].isna()]}')"
   ]
  },
  {
   "cell_type": "code",
   "execution_count": 67,
   "metadata": {},
   "outputs": [
    {
     "name": "stdout",
     "output_type": "stream",
     "text": [
      "verificación de nulos luego de eliminarlos:\n",
      "depth           0\n",
      "permeability    0\n",
      "porosity        0\n",
      "Pozo            0\n",
      "dtype: int64\n"
     ]
    }
   ],
   "source": [
    "#Eliminamos los datos faltantes y revisamos si ya no existen en la data\n",
    "df=df.dropna()\n",
    "print(f'verificación de nulos luego de eliminarlos:\\n{df.isnull().sum()}')"
   ]
  },
  {
   "cell_type": "code",
   "execution_count": 68,
   "metadata": {},
   "outputs": [
    {
     "data": {
      "text/html": [
       "<div>\n",
       "<style scoped>\n",
       "    .dataframe tbody tr th:only-of-type {\n",
       "        vertical-align: middle;\n",
       "    }\n",
       "\n",
       "    .dataframe tbody tr th {\n",
       "        vertical-align: top;\n",
       "    }\n",
       "\n",
       "    .dataframe thead th {\n",
       "        text-align: right;\n",
       "    }\n",
       "</style>\n",
       "<table border=\"1\" class=\"dataframe\">\n",
       "  <thead>\n",
       "    <tr style=\"text-align: right;\">\n",
       "      <th></th>\n",
       "      <th>depth</th>\n",
       "      <th>permeability</th>\n",
       "      <th>porosity</th>\n",
       "    </tr>\n",
       "  </thead>\n",
       "  <tbody>\n",
       "    <tr>\n",
       "      <th>count</th>\n",
       "      <td>23707.000000</td>\n",
       "      <td>2.370700e+04</td>\n",
       "      <td>23707.00000</td>\n",
       "    </tr>\n",
       "    <tr>\n",
       "      <th>mean</th>\n",
       "      <td>7942.706036</td>\n",
       "      <td>1.738222e+05</td>\n",
       "      <td>10.23250</td>\n",
       "    </tr>\n",
       "    <tr>\n",
       "      <th>std</th>\n",
       "      <td>478.887293</td>\n",
       "      <td>1.124583e+06</td>\n",
       "      <td>43.61449</td>\n",
       "    </tr>\n",
       "    <tr>\n",
       "      <th>min</th>\n",
       "      <td>7060.000000</td>\n",
       "      <td>0.000000e+00</td>\n",
       "      <td>0.00000</td>\n",
       "    </tr>\n",
       "    <tr>\n",
       "      <th>25%</th>\n",
       "      <td>7568.125000</td>\n",
       "      <td>1.900000e-03</td>\n",
       "      <td>0.00320</td>\n",
       "    </tr>\n",
       "    <tr>\n",
       "      <th>50%</th>\n",
       "      <td>7897.500000</td>\n",
       "      <td>2.599044e+02</td>\n",
       "      <td>0.15530</td>\n",
       "    </tr>\n",
       "    <tr>\n",
       "      <th>75%</th>\n",
       "      <td>8218.000000</td>\n",
       "      <td>3.545505e+03</td>\n",
       "      <td>0.21460</td>\n",
       "    </tr>\n",
       "    <tr>\n",
       "      <th>max</th>\n",
       "      <td>9260.000000</td>\n",
       "      <td>1.995900e+07</td>\n",
       "      <td>335.00000</td>\n",
       "    </tr>\n",
       "  </tbody>\n",
       "</table>\n",
       "</div>"
      ],
      "text/plain": [
       "              depth  permeability     porosity\n",
       "count  23707.000000  2.370700e+04  23707.00000\n",
       "mean    7942.706036  1.738222e+05     10.23250\n",
       "std      478.887293  1.124583e+06     43.61449\n",
       "min     7060.000000  0.000000e+00      0.00000\n",
       "25%     7568.125000  1.900000e-03      0.00320\n",
       "50%     7897.500000  2.599044e+02      0.15530\n",
       "75%     8218.000000  3.545505e+03      0.21460\n",
       "max     9260.000000  1.995900e+07    335.00000"
      ]
     },
     "execution_count": 68,
     "metadata": {},
     "output_type": "execute_result"
    }
   ],
   "source": [
    "df.describe()"
   ]
  },
  {
   "cell_type": "markdown",
   "metadata": {},
   "source": [
    "Con respecto de la columnas porosity y permeability se decide eliminar los valores faltantes ya que solo representan una porción muy pequeña de data por cada pozo."
   ]
  },
  {
   "cell_type": "code",
   "execution_count": 69,
   "metadata": {},
   "outputs": [
    {
     "data": {
      "image/png": "[encoded data removed]",
      "text/plain": [
       "<Figure size 800x400 with 4 Axes>"
      ]
     },
     "metadata": {},
     "output_type": "display_data"
    }
   ],
   "source": [
    "fig, axes=plt.subplots(2,2,figsize=(8,4), sharey=False)\n",
    "\n",
    "#Boxplot Porosity\n",
    "sns.boxplot(df['porosity'], ax=axes[0,0],fliersize=False)\n",
    "sns.stripplot(df['porosity'], ax=axes[0,0])\n",
    "axes[0,0].set_title(\"Boxplot Porosity\")\n",
    "\n",
    "#Boxplot Permeability\n",
    "sns.boxplot(df['permeability'], ax=axes[0,1], fliersize=False)\n",
    "sns.stripplot(df['permeability'], ax=axes[0,1])\n",
    "axes[0,1].set_title(\"Boxplot Permeability\")\n",
    "\n",
    "#Histograma Porosidad\n",
    "sns.histplot(df['porosity'], ax=axes[1,0],bins=10)\n",
    "axes[1,0].set_title('Histograma Porosidad')\n",
    "\n",
    "#Histograma Porosidad\n",
    "sns.histplot(df['permeability'], ax=axes[1,1],bins=10)\n",
    "axes[1,0].set_title('Histograma Permeabilidad')\n",
    "\n",
    "\n",
    "fig.tight_layout()\n",
    "\n",
    "plt.show()"
   ]
  },
  {
   "cell_type": "code",
   "execution_count": 70,
   "metadata": {},
   "outputs": [
    {
     "name": "stdout",
     "output_type": "stream",
     "text": [
      "corte para valores atípicos moderados:0.53\n",
      "corte para valores atípicos extremos: 0.85\n"
     ]
    }
   ],
   "source": [
    "#Revisar cuantos valores atípicos se encuentran por cada variable\n",
    "\n",
    "Q1=df['porosity'].quantile(0.25)\n",
    "Q3=df['porosity'].quantile(0.75)\n",
    "IQR=Q3-Q1\n",
    "\n",
    "# La literatura habla de que un valor es atípico moderado si es mayor a Q3+1.5IQR  o menor a Q1-1.5IQR, es un valor atípico extremo \n",
    "# si es mayor a Q3+3IQR o menor a Q1-3IQR\n",
    "moderado_derecha_por= Q3+1.5*IQR\n",
    "moderado_izquierda_por=Q1-1.5*IQR\n",
    "\n",
    "print(f'corte para valores atípicos moderados:{round(moderado_derecha_por,2)}')\n",
    "\n",
    "\n",
    "extremo_derecha_por=Q3+3*IQR\n",
    "extremo_izquierda_por=Q1-3*IQR\n",
    "\n",
    "print(f'corte para valores atípicos extremos: {round(extremo_derecha_por,2)}')"
   ]
  },
  {
   "cell_type": "code",
   "execution_count": 71,
   "metadata": {},
   "outputs": [
    {
     "name": "stdout",
     "output_type": "stream",
     "text": [
      "corte para valores atípicos moderados hacia la derecha permeability: 8863\n",
      "corte para valores atípicos extremos hacia la derecha permeability: 14182\n"
     ]
    }
   ],
   "source": [
    "Q1=df['permeability'].quantile(0.25)\n",
    "Q3=df['permeability'].quantile(0.75)\n",
    "IQR=Q3-Q1\n",
    "\n",
    "moderado_derecha_per=Q3+1.5*IQR\n",
    "moderado_izquierda_per=Q1-1.5*IQR\n",
    "\n",
    "print(f'corte para valores atípicos moderados hacia la derecha permeability: {int(moderado_derecha_per)}')\n",
    "\n",
    "\n",
    "extremo_derecha_per=Q3+3*IQR\n",
    "extremo_izquierda_per=Q1-3*IQR\n",
    "\n",
    "\n",
    "print(f'corte para valores atípicos extremos hacia la derecha permeability: {int(extremo_derecha_per)}')"
   ]
  },
  {
   "cell_type": "markdown",
   "metadata": {},
   "source": [
    "Con base en la literatura y mediciones realizadas en rocas sedimentarias, se reconoce que la porosidad en areniscas típicamente no supera el 30%. Valores más altos, entre 40% y 50%, suelen estar relacionados con procesos como la disolución de foraminíferos o el desarrollo de porosidad secundaria. Estas condiciones no representan una capacidad efectiva de almacenamiento, ya que generalmente no existe interconexión entre los poros. Según Tiab y Donaldson (2015) en Petrophysics: Theory and Practice of Measuring Reservoir Rock and Fluid Transport Properties, este fenómeno es ampliamente descrito y estudiado. Por lo tanto, para los análisis presentes, se excluirán los valores superiores al límite atípico moderado de 0.53. Pata los valores atípicos de permeabilidad si consideron que no es necesario quitarlos realmente no es qeu sean atípicos si no que están asociados más a grupos de permeabilidad, en campos se encentran permeabilidades mayores a 14182 mD el cual es el valor atípico extremo.\n",
    " "
   ]
  },
  {
   "cell_type": "code",
   "execution_count": 72,
   "metadata": {},
   "outputs": [
    {
     "name": "stdout",
     "output_type": "stream",
     "text": [
      "total de observaciones variable porosity antes de quitar atípicos: 23707\n",
      "total de observaciones variable porosity antes de quitar atípicos: 1716\n",
      "\n",
      "     depth  permeability  porosity   Pozo\n",
      "24  7171.5     3416.4148     203.0  well1\n",
      "27  7173.0     3056.7000     202.0  well1\n",
      "42  7180.5     1578.1553     185.0  well1\n",
      "51  7185.0     2149.1848     192.0  well1\n",
      "68  7193.5        3.2621      63.0  well1\n"
     ]
    }
   ],
   "source": [
    "print(f'total de observaciones variable porosity antes de quitar atípicos: {len(df['porosity'])}')\n",
    "print(f'total de observaciones variable porosity antes de quitar atípicos: {len(df[df['porosity']>moderado_derecha_por])}\\n')\n",
    "\n",
    "print(df[df['porosity']>moderado_derecha_por].head())\n",
    "\n",
    "#Creamos una columna para identificar la data outliers_permeability\n",
    "df['outliers_porosity']=df['porosity']>moderado_derecha_por\n",
    "\n",
    "validos=df[~df['outliers_porosity']]"
   ]
  },
  {
   "cell_type": "markdown",
   "metadata": {},
   "source": [
    "Se observa con la data que está por encima del valor moderado atípico que las porosidades evidentemente no tienen sentido, pero el valor correspondiente a esa profunidad de permeabilidad son validos por lo que se puede tratar de buscar una forma de cambiar esos valores de porosidades por valores basados en un modelo entre la profundidad, permeabilidad y porosidad para tratar de predecir en base a la profundidad y permeabilidad el valor de porosidad, si no la solución seria eliminar los 1716 registros con este problema."
   ]
  },
  {
   "cell_type": "code",
   "execution_count": 73,
   "metadata": {},
   "outputs": [
    {
     "data": {
      "text/plain": [
       "Index(['depth', 'permeability', 'porosity', 'Pozo', 'outliers_porosity'], dtype='object')"
      ]
     },
     "execution_count": 73,
     "metadata": {},
     "output_type": "execute_result"
    }
   ],
   "source": [
    "df.columns"
   ]
  },
  {
   "cell_type": "code",
   "execution_count": 74,
   "metadata": {},
   "outputs": [
    {
     "data": {
      "text/html": [
       "<div>\n",
       "<style scoped>\n",
       "    .dataframe tbody tr th:only-of-type {\n",
       "        vertical-align: middle;\n",
       "    }\n",
       "\n",
       "    .dataframe tbody tr th {\n",
       "        vertical-align: top;\n",
       "    }\n",
       "\n",
       "    .dataframe thead th {\n",
       "        text-align: right;\n",
       "    }\n",
       "</style>\n",
       "<table border=\"1\" class=\"dataframe\">\n",
       "  <thead>\n",
       "    <tr style=\"text-align: right;\">\n",
       "      <th></th>\n",
       "      <th>depth</th>\n",
       "      <th>permeability</th>\n",
       "      <th>porosity</th>\n",
       "      <th>Pozo</th>\n",
       "      <th>outliers_porosity</th>\n",
       "      <th>log_permeanility</th>\n",
       "      <th>scaled_depth</th>\n",
       "      <th>scaled_log_permeanility</th>\n",
       "      <th>scaled_porosity</th>\n",
       "    </tr>\n",
       "  </thead>\n",
       "  <tbody>\n",
       "    <tr>\n",
       "      <th>0</th>\n",
       "      <td>7159.5</td>\n",
       "      <td>0.0</td>\n",
       "      <td>0.0</td>\n",
       "      <td>well1</td>\n",
       "      <td>False</td>\n",
       "      <td>-4.0</td>\n",
       "      <td>-1.635505</td>\n",
       "      <td>-1.512637</td>\n",
       "      <td>-0.234617</td>\n",
       "    </tr>\n",
       "    <tr>\n",
       "      <th>1</th>\n",
       "      <td>7160.0</td>\n",
       "      <td>0.0</td>\n",
       "      <td>0.0</td>\n",
       "      <td>well1</td>\n",
       "      <td>False</td>\n",
       "      <td>-4.0</td>\n",
       "      <td>-1.634461</td>\n",
       "      <td>-1.512637</td>\n",
       "      <td>-0.234617</td>\n",
       "    </tr>\n",
       "    <tr>\n",
       "      <th>2</th>\n",
       "      <td>7160.5</td>\n",
       "      <td>0.0</td>\n",
       "      <td>0.0</td>\n",
       "      <td>well1</td>\n",
       "      <td>False</td>\n",
       "      <td>-4.0</td>\n",
       "      <td>-1.633417</td>\n",
       "      <td>-1.512637</td>\n",
       "      <td>-0.234617</td>\n",
       "    </tr>\n",
       "    <tr>\n",
       "      <th>3</th>\n",
       "      <td>7161.0</td>\n",
       "      <td>0.0</td>\n",
       "      <td>0.0</td>\n",
       "      <td>well1</td>\n",
       "      <td>False</td>\n",
       "      <td>-4.0</td>\n",
       "      <td>-1.632373</td>\n",
       "      <td>-1.512637</td>\n",
       "      <td>-0.234617</td>\n",
       "    </tr>\n",
       "    <tr>\n",
       "      <th>4</th>\n",
       "      <td>7161.5</td>\n",
       "      <td>0.0</td>\n",
       "      <td>0.0</td>\n",
       "      <td>well1</td>\n",
       "      <td>False</td>\n",
       "      <td>-4.0</td>\n",
       "      <td>-1.631329</td>\n",
       "      <td>-1.512637</td>\n",
       "      <td>-0.234617</td>\n",
       "    </tr>\n",
       "    <tr>\n",
       "      <th>...</th>\n",
       "      <td>...</td>\n",
       "      <td>...</td>\n",
       "      <td>...</td>\n",
       "      <td>...</td>\n",
       "      <td>...</td>\n",
       "      <td>...</td>\n",
       "      <td>...</td>\n",
       "      <td>...</td>\n",
       "      <td>...</td>\n",
       "    </tr>\n",
       "    <tr>\n",
       "      <th>9672</th>\n",
       "      <td>NaN</td>\n",
       "      <td>NaN</td>\n",
       "      <td>NaN</td>\n",
       "      <td>NaN</td>\n",
       "      <td>NaN</td>\n",
       "      <td>NaN</td>\n",
       "      <td>1.810055</td>\n",
       "      <td>0.974854</td>\n",
       "      <td>-0.229075</td>\n",
       "    </tr>\n",
       "    <tr>\n",
       "      <th>18429</th>\n",
       "      <td>NaN</td>\n",
       "      <td>NaN</td>\n",
       "      <td>NaN</td>\n",
       "      <td>NaN</td>\n",
       "      <td>NaN</td>\n",
       "      <td>NaN</td>\n",
       "      <td>-0.242664</td>\n",
       "      <td>0.683094</td>\n",
       "      <td>-0.230128</td>\n",
       "    </tr>\n",
       "    <tr>\n",
       "      <th>19253</th>\n",
       "      <td>NaN</td>\n",
       "      <td>NaN</td>\n",
       "      <td>NaN</td>\n",
       "      <td>NaN</td>\n",
       "      <td>NaN</td>\n",
       "      <td>NaN</td>\n",
       "      <td>-1.833886</td>\n",
       "      <td>1.006595</td>\n",
       "      <td>-0.228133</td>\n",
       "    </tr>\n",
       "    <tr>\n",
       "      <th>20224</th>\n",
       "      <td>NaN</td>\n",
       "      <td>NaN</td>\n",
       "      <td>NaN</td>\n",
       "      <td>NaN</td>\n",
       "      <td>NaN</td>\n",
       "      <td>NaN</td>\n",
       "      <td>-0.819012</td>\n",
       "      <td>0.837310</td>\n",
       "      <td>-0.229658</td>\n",
       "    </tr>\n",
       "    <tr>\n",
       "      <th>22720</th>\n",
       "      <td>NaN</td>\n",
       "      <td>NaN</td>\n",
       "      <td>NaN</td>\n",
       "      <td>NaN</td>\n",
       "      <td>NaN</td>\n",
       "      <td>NaN</td>\n",
       "      <td>1.721306</td>\n",
       "      <td>0.913918</td>\n",
       "      <td>-0.229080</td>\n",
       "    </tr>\n",
       "  </tbody>\n",
       "</table>\n",
       "<p>23719 rows × 9 columns</p>\n",
       "</div>"
      ],
      "text/plain": [
       "        depth  permeability  porosity   Pozo outliers_porosity  \\\n",
       "0      7159.5           0.0       0.0  well1             False   \n",
       "1      7160.0           0.0       0.0  well1             False   \n",
       "2      7160.5           0.0       0.0  well1             False   \n",
       "3      7161.0           0.0       0.0  well1             False   \n",
       "4      7161.5           0.0       0.0  well1             False   \n",
       "...       ...           ...       ...    ...               ...   \n",
       "9672      NaN           NaN       NaN    NaN               NaN   \n",
       "18429     NaN           NaN       NaN    NaN               NaN   \n",
       "19253     NaN           NaN       NaN    NaN               NaN   \n",
       "20224     NaN           NaN       NaN    NaN               NaN   \n",
       "22720     NaN           NaN       NaN    NaN               NaN   \n",
       "\n",
       "       log_permeanility  scaled_depth  scaled_log_permeanility  \\\n",
       "0                  -4.0     -1.635505                -1.512637   \n",
       "1                  -4.0     -1.634461                -1.512637   \n",
       "2                  -4.0     -1.633417                -1.512637   \n",
       "3                  -4.0     -1.632373                -1.512637   \n",
       "4                  -4.0     -1.631329                -1.512637   \n",
       "...                 ...           ...                      ...   \n",
       "9672                NaN      1.810055                 0.974854   \n",
       "18429               NaN     -0.242664                 0.683094   \n",
       "19253               NaN     -1.833886                 1.006595   \n",
       "20224               NaN     -0.819012                 0.837310   \n",
       "22720               NaN      1.721306                 0.913918   \n",
       "\n",
       "       scaled_porosity  \n",
       "0            -0.234617  \n",
       "1            -0.234617  \n",
       "2            -0.234617  \n",
       "3            -0.234617  \n",
       "4            -0.234617  \n",
       "...                ...  \n",
       "9672         -0.229075  \n",
       "18429        -0.230128  \n",
       "19253        -0.228133  \n",
       "20224        -0.229658  \n",
       "22720        -0.229080  \n",
       "\n",
       "[23719 rows x 9 columns]"
      ]
     },
     "execution_count": 74,
     "metadata": {},
     "output_type": "execute_result"
    }
   ],
   "source": [
    "df['log_permeanility']=np.log10(df['permeability'].clip(lower=0.0001))\n",
    "\n",
    "#Estandarizar los datos en base a la media\n",
    "\n",
    "variables=['depth','log_permeanility','porosity']\n",
    "\n",
    "scaler=StandardScaler()\n",
    "\n",
    "scaled_data=scaler.fit_transform(df[variables])\n",
    "scaled_df=pd.DataFrame(scaled_data, columns=[f'scaled_{col}' for col in variables])\n",
    "scaled_df\n",
    "\n",
    "df=pd.concat([df, scaled_df], axis=1)\n",
    "df"
   ]
  },
  {
   "cell_type": "code",
   "execution_count": null,
   "metadata": {},
   "outputs": [],
   "source": [
    "sns.pairplot(validos)\n",
    "plt.show()"
   ]
  },
  {
   "cell_type": "code",
   "execution_count": 60,
   "metadata": {},
   "outputs": [
    {
     "name": "stderr",
     "output_type": "stream",
     "text": [
      "/home/jes-s-iv-n/Proyectos/GARGANTA DE PORO/garganta/lib/python3.12/site-packages/seaborn/axisgrid.py:123: UserWarning:\n",
      "\n",
      "Glyph 9 (\t) missing from font(s) DejaVu Sans.\n",
      "\n"
     ]
    },
    {
     "ename": "KeyError",
     "evalue": "'scaled_\\tlog_permeanility'",
     "output_type": "error",
     "traceback": [
      "\u001b[0;31m---------------------------------------------------------------------------\u001b[0m",
      "\u001b[0;31mKeyError\u001b[0m                                  Traceback (most recent call last)",
      "File \u001b[0;32m~/Proyectos/GARGANTA DE PORO/garganta/lib/python3.12/site-packages/pandas/core/indexes/base.py:3805\u001b[0m, in \u001b[0;36mIndex.get_loc\u001b[0;34m(self, key)\u001b[0m\n\u001b[1;32m   3804\u001b[0m \u001b[38;5;28;01mtry\u001b[39;00m:\n\u001b[0;32m-> 3805\u001b[0m     \u001b[38;5;28;01mreturn\u001b[39;00m \u001b[38;5;28;43mself\u001b[39;49m\u001b[38;5;241;43m.\u001b[39;49m\u001b[43m_engine\u001b[49m\u001b[38;5;241;43m.\u001b[39;49m\u001b[43mget_loc\u001b[49m\u001b[43m(\u001b[49m\u001b[43mcasted_key\u001b[49m\u001b[43m)\u001b[49m\n\u001b[1;32m   3806\u001b[0m \u001b[38;5;28;01mexcept\u001b[39;00m \u001b[38;5;167;01mKeyError\u001b[39;00m \u001b[38;5;28;01mas\u001b[39;00m err:\n",
      "File \u001b[0;32mindex.pyx:167\u001b[0m, in \u001b[0;36mpandas._libs.index.IndexEngine.get_loc\u001b[0;34m()\u001b[0m\n",
      "File \u001b[0;32mindex.pyx:196\u001b[0m, in \u001b[0;36mpandas._libs.index.IndexEngine.get_loc\u001b[0;34m()\u001b[0m\n",
      "File \u001b[0;32mpandas/_libs/hashtable_class_helper.pxi:7081\u001b[0m, in \u001b[0;36mpandas._libs.hashtable.PyObjectHashTable.get_item\u001b[0;34m()\u001b[0m\n",
      "File \u001b[0;32mpandas/_libs/hashtable_class_helper.pxi:7089\u001b[0m, in \u001b[0;36mpandas._libs.hashtable.PyObjectHashTable.get_item\u001b[0;34m()\u001b[0m\n",
      "\u001b[0;31mKeyError\u001b[0m: 'scaled_\\tlog_permeanility'",
      "\nThe above exception was the direct cause of the following exception:\n",
      "\u001b[0;31mKeyError\u001b[0m                                  Traceback (most recent call last)",
      "Cell \u001b[0;32mIn[60], line 5\u001b[0m\n\u001b[1;32m      2\u001b[0m \u001b[38;5;28;01mimport\u001b[39;00m\u001b[38;5;250m \u001b[39m\u001b[38;5;21;01mmatplotlib\u001b[39;00m\u001b[38;5;21;01m.\u001b[39;00m\u001b[38;5;21;01mpyplot\u001b[39;00m\u001b[38;5;250m \u001b[39m\u001b[38;5;28;01mas\u001b[39;00m\u001b[38;5;250m \u001b[39m\u001b[38;5;21;01mplt\u001b[39;00m\n\u001b[1;32m      4\u001b[0m \u001b[38;5;66;03m# Usar las variables transformadas/estandarizadas para el pairplot\u001b[39;00m\n\u001b[0;32m----> 5\u001b[0m \u001b[43msns\u001b[49m\u001b[38;5;241;43m.\u001b[39;49m\u001b[43mpairplot\u001b[49m\u001b[43m(\u001b[49m\u001b[43mdf\u001b[49m\u001b[43m,\u001b[49m\u001b[43m \u001b[49m\u001b[38;5;28;43mvars\u001b[39;49m\u001b[38;5;241;43m=\u001b[39;49m\u001b[43m[\u001b[49m\u001b[38;5;124;43m'\u001b[39;49m\u001b[38;5;124;43mscaled_depth\u001b[39;49m\u001b[38;5;124;43m'\u001b[39;49m\u001b[43m,\u001b[49m\u001b[43m \u001b[49m\u001b[38;5;124;43m'\u001b[39;49m\u001b[38;5;124;43mscaled_\tlog_permeanility\u001b[39;49m\u001b[38;5;124;43m'\u001b[39;49m\u001b[43m,\u001b[49m\u001b[43m \u001b[49m\u001b[38;5;124;43m'\u001b[39;49m\u001b[38;5;124;43mscaled_porosity\u001b[39;49m\u001b[38;5;124;43m'\u001b[39;49m\u001b[43m]\u001b[49m\u001b[43m,\u001b[49m\u001b[43m \u001b[49m\u001b[43mhue\u001b[49m\u001b[38;5;241;43m=\u001b[39;49m\u001b[38;5;124;43m'\u001b[39;49m\u001b[38;5;124;43mPozo\u001b[39;49m\u001b[38;5;124;43m'\u001b[39;49m\u001b[43m)\u001b[49m\n\u001b[1;32m      6\u001b[0m plt\u001b[38;5;241m.\u001b[39mshow()\n",
      "File \u001b[0;32m~/Proyectos/GARGANTA DE PORO/garganta/lib/python3.12/site-packages/seaborn/axisgrid.py:2153\u001b[0m, in \u001b[0;36mpairplot\u001b[0;34m(data, hue, hue_order, palette, vars, x_vars, y_vars, kind, diag_kind, markers, height, aspect, corner, dropna, plot_kws, diag_kws, grid_kws, size)\u001b[0m\n\u001b[1;32m   2151\u001b[0m     diag_kws\u001b[38;5;241m.\u001b[39msetdefault(\u001b[38;5;124m\"\u001b[39m\u001b[38;5;124mfill\u001b[39m\u001b[38;5;124m\"\u001b[39m, \u001b[38;5;28;01mTrue\u001b[39;00m)\n\u001b[1;32m   2152\u001b[0m     diag_kws\u001b[38;5;241m.\u001b[39msetdefault(\u001b[38;5;124m\"\u001b[39m\u001b[38;5;124mwarn_singular\u001b[39m\u001b[38;5;124m\"\u001b[39m, \u001b[38;5;28;01mFalse\u001b[39;00m)\n\u001b[0;32m-> 2153\u001b[0m     \u001b[43mgrid\u001b[49m\u001b[38;5;241;43m.\u001b[39;49m\u001b[43mmap_diag\u001b[49m\u001b[43m(\u001b[49m\u001b[43mkdeplot\u001b[49m\u001b[43m,\u001b[49m\u001b[43m \u001b[49m\u001b[38;5;241;43m*\u001b[39;49m\u001b[38;5;241;43m*\u001b[39;49m\u001b[43mdiag_kws\u001b[49m\u001b[43m)\u001b[49m\n\u001b[1;32m   2155\u001b[0m \u001b[38;5;66;03m# Maybe plot on the off-diagonals\u001b[39;00m\n\u001b[1;32m   2156\u001b[0m \u001b[38;5;28;01mif\u001b[39;00m diag_kind \u001b[38;5;129;01mis\u001b[39;00m \u001b[38;5;129;01mnot\u001b[39;00m \u001b[38;5;28;01mNone\u001b[39;00m:\n",
      "File \u001b[0;32m~/Proyectos/GARGANTA DE PORO/garganta/lib/python3.12/site-packages/seaborn/axisgrid.py:1496\u001b[0m, in \u001b[0;36mPairGrid.map_diag\u001b[0;34m(self, func, **kwargs)\u001b[0m\n\u001b[1;32m   1493\u001b[0m \u001b[38;5;28;01melse\u001b[39;00m:\n\u001b[1;32m   1494\u001b[0m     plt\u001b[38;5;241m.\u001b[39msca(ax)\n\u001b[0;32m-> 1496\u001b[0m vector \u001b[38;5;241m=\u001b[39m \u001b[38;5;28;43mself\u001b[39;49m\u001b[38;5;241;43m.\u001b[39;49m\u001b[43mdata\u001b[49m\u001b[43m[\u001b[49m\u001b[43mvar\u001b[49m\u001b[43m]\u001b[49m\n\u001b[1;32m   1497\u001b[0m \u001b[38;5;28;01mif\u001b[39;00m \u001b[38;5;28mself\u001b[39m\u001b[38;5;241m.\u001b[39m_hue_var \u001b[38;5;129;01mis\u001b[39;00m \u001b[38;5;129;01mnot\u001b[39;00m \u001b[38;5;28;01mNone\u001b[39;00m:\n\u001b[1;32m   1498\u001b[0m     hue \u001b[38;5;241m=\u001b[39m \u001b[38;5;28mself\u001b[39m\u001b[38;5;241m.\u001b[39mdata[\u001b[38;5;28mself\u001b[39m\u001b[38;5;241m.\u001b[39m_hue_var]\n",
      "File \u001b[0;32m~/Proyectos/GARGANTA DE PORO/garganta/lib/python3.12/site-packages/pandas/core/frame.py:4102\u001b[0m, in \u001b[0;36mDataFrame.__getitem__\u001b[0;34m(self, key)\u001b[0m\n\u001b[1;32m   4100\u001b[0m \u001b[38;5;28;01mif\u001b[39;00m \u001b[38;5;28mself\u001b[39m\u001b[38;5;241m.\u001b[39mcolumns\u001b[38;5;241m.\u001b[39mnlevels \u001b[38;5;241m>\u001b[39m \u001b[38;5;241m1\u001b[39m:\n\u001b[1;32m   4101\u001b[0m     \u001b[38;5;28;01mreturn\u001b[39;00m \u001b[38;5;28mself\u001b[39m\u001b[38;5;241m.\u001b[39m_getitem_multilevel(key)\n\u001b[0;32m-> 4102\u001b[0m indexer \u001b[38;5;241m=\u001b[39m \u001b[38;5;28;43mself\u001b[39;49m\u001b[38;5;241;43m.\u001b[39;49m\u001b[43mcolumns\u001b[49m\u001b[38;5;241;43m.\u001b[39;49m\u001b[43mget_loc\u001b[49m\u001b[43m(\u001b[49m\u001b[43mkey\u001b[49m\u001b[43m)\u001b[49m\n\u001b[1;32m   4103\u001b[0m \u001b[38;5;28;01mif\u001b[39;00m is_integer(indexer):\n\u001b[1;32m   4104\u001b[0m     indexer \u001b[38;5;241m=\u001b[39m [indexer]\n",
      "File \u001b[0;32m~/Proyectos/GARGANTA DE PORO/garganta/lib/python3.12/site-packages/pandas/core/indexes/base.py:3812\u001b[0m, in \u001b[0;36mIndex.get_loc\u001b[0;34m(self, key)\u001b[0m\n\u001b[1;32m   3807\u001b[0m     \u001b[38;5;28;01mif\u001b[39;00m \u001b[38;5;28misinstance\u001b[39m(casted_key, \u001b[38;5;28mslice\u001b[39m) \u001b[38;5;129;01mor\u001b[39;00m (\n\u001b[1;32m   3808\u001b[0m         \u001b[38;5;28misinstance\u001b[39m(casted_key, abc\u001b[38;5;241m.\u001b[39mIterable)\n\u001b[1;32m   3809\u001b[0m         \u001b[38;5;129;01mand\u001b[39;00m \u001b[38;5;28many\u001b[39m(\u001b[38;5;28misinstance\u001b[39m(x, \u001b[38;5;28mslice\u001b[39m) \u001b[38;5;28;01mfor\u001b[39;00m x \u001b[38;5;129;01min\u001b[39;00m casted_key)\n\u001b[1;32m   3810\u001b[0m     ):\n\u001b[1;32m   3811\u001b[0m         \u001b[38;5;28;01mraise\u001b[39;00m InvalidIndexError(key)\n\u001b[0;32m-> 3812\u001b[0m     \u001b[38;5;28;01mraise\u001b[39;00m \u001b[38;5;167;01mKeyError\u001b[39;00m(key) \u001b[38;5;28;01mfrom\u001b[39;00m\u001b[38;5;250m \u001b[39m\u001b[38;5;21;01merr\u001b[39;00m\n\u001b[1;32m   3813\u001b[0m \u001b[38;5;28;01mexcept\u001b[39;00m \u001b[38;5;167;01mTypeError\u001b[39;00m:\n\u001b[1;32m   3814\u001b[0m     \u001b[38;5;66;03m# If we have a listlike key, _check_indexing_error will raise\u001b[39;00m\n\u001b[1;32m   3815\u001b[0m     \u001b[38;5;66;03m#  InvalidIndexError. Otherwise we fall through and re-raise\u001b[39;00m\n\u001b[1;32m   3816\u001b[0m     \u001b[38;5;66;03m#  the TypeError.\u001b[39;00m\n\u001b[1;32m   3817\u001b[0m     \u001b[38;5;28mself\u001b[39m\u001b[38;5;241m.\u001b[39m_check_indexing_error(key)\n",
      "\u001b[0;31mKeyError\u001b[0m: 'scaled_\\tlog_permeanility'"
     ]
    },
    {
     "name": "stderr",
     "output_type": "stream",
     "text": [
      "/home/jes-s-iv-n/Proyectos/GARGANTA DE PORO/garganta/lib/python3.12/site-packages/IPython/core/events.py:82: UserWarning:\n",
      "\n",
      "Glyph 9 (\t) missing from font(s) DejaVu Sans.\n",
      "\n",
      "/home/jes-s-iv-n/Proyectos/GARGANTA DE PORO/garganta/lib/python3.12/site-packages/IPython/core/pylabtools.py:170: UserWarning:\n",
      "\n",
      "Glyph 9 (\t) missing from font(s) DejaVu Sans.\n",
      "\n"
     ]
    },
    {
     "data": {
      "image/png": "[encoded data removed]",
      "text/plain": [
       "<Figure size 750x750 with 12 Axes>"
      ]
     },
     "metadata": {},
     "output_type": "display_data"
    }
   ],
   "source": [
    "import seaborn as sns\n",
    "import matplotlib.pyplot as plt\n",
    "\n",
    "# Usar las variables transformadas/estandarizadas para el pairplot\n",
    "sns.pairplot(df, vars=['scaled_depth', 'scaled_\tlog_permeanility', 'scaled_porosity'], hue='Pozo')\n",
    "plt.show()\n"
   ]
  },
  {
   "cell_type": "code",
   "execution_count": null,
   "metadata": {},
   "outputs": [],
   "source": []
  }
 ],
 "metadata": {
  "kernelspec": {
   "display_name": "garganta",
   "language": "python",
   "name": "python3"
  },
  "language_info": {
   "codemirror_mode": {
    "name": "ipython",
    "version": 3
   },
   "file_extension": ".py",
   "mimetype": "text/x-python",
   "name": "python",
   "nbconvert_exporter": "python",
   "pygments_lexer": "ipython3",
   "version": "3.12.8"
  }
 },
 "nbformat": 4,
 "nbformat_minor": 2
}
