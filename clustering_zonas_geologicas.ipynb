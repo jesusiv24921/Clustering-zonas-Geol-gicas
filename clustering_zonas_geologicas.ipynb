{
 "cells": [
  {
   "cell_type": "markdown",
   "metadata": {},
   "source": [
    "# Clustering de Zonas Geológicas\n",
    "\n",
    "El clustering de zonas geológicas es una técnica de agrupamiento que permite identificar patrones y similitudes entre diferentes intervalos geológicos dentro de un pozo o entre múltiples pozos. Estas agrupaciones son útiles para entender el comportamiento del yacimiento, identificar zonas con características similares y optimizar estrategias de desarrollo, como la selección de fluidos de inyección o el diseño de estimulaciones.\n",
    "\n",
    "El análisis considera variables clave como la **permeabilidad**, **porosidad** y el **diámetro de garganta de poro (R35)**, que se calcula a partir de la permeabilidad y porosidad mediante una relación empírica. Estas características geológicas se analizan para identificar clusters que representan diferentes zonas del yacimiento.\n",
    "\n",
    "\n",
    "## Contenido\n",
    "- [1 - Introducción](#1)\n",
    "  - [1.1 Objetivo](#1.1)\n",
    "- [2 - Imports Necesarios](#2)\n",
    "- [3 - Exploración](#3)\n",
    "  - [3.1 Datos](#3.1)\n",
    "  - [3.2 Visualización](#3.2)\n",
    "- [4 - Funciones Auxiliares](#4)\n",
    "  - [4.1 - Cálculo del R35](#4.1)\n",
    "  - [4.2 - Función de Escalado](#4.2)\n",
    "- [5 - Clustering K-Means](#5)\n",
    "- [6 - Clustering DBSCAN](#6)\n",
    "- [7 - Evaluación del Clustering](#7)\n",
    "  - [7.1 Visualización](#7.1)\n",
    "  - [7.2 Métricas de Evaluación](#7.2)\n"
   ]
  },
  {
   "cell_type": "markdown",
   "metadata": {},
   "source": [
    "<a name=\"1\"></a>\n",
    "\n",
    "## 1 - Introducción \n",
    "En este notebook, exploraremos el uso de técnicas de clustering para identificar patrones y similitudes en zonas geológicas de pozos petroleros. El análisis se centrará en agrupar zonas con características geológicas similares utilizando variables clave como:\n",
    "1. Permeabilidad (mD).\n",
    "2. Porosidad (%).\n",
    "3. Diámetro de garganta de poro (R35).\n",
    "\n",
    "Estas técnicas permiten identificar grupos homogéneos dentro de un yacimiento, lo que facilita la toma de decisiones para optimizar estrategias de inyección, estimulación y desarrollo del campo.\n",
    "\n",
    "<a name=\"1.1\"></a>\n",
    "\n",
    "### 1.1 Objetivo\n",
    "\n",
    "El objetivo de este estudio es aplicar algoritmos de clustering para identificar y analizar zonas geológicas con comportamientos similares dentro de uno o varios pozos. Usaremos datos históricos de mediciones geológicas (permeabilidad, porosidad y R35) para descubrir patrones que apoyen la planificación y optimización de las operaciones. Este análisis se realizará sobre un conjunto de datos estructurado en formato csv.\n"
   ]
  },
  {
   "cell_type": "markdown",
   "metadata": {},
   "source": [
    "<a name=\"2\"></a>\n",
    "## 2 - Imports Necesarios\n",
    "\n",
    "El siguiente bloque de código importará las bibliotecas necesarias para ejecutar este notebook.."
   ]
  },
  {
   "cell_type": "code",
   "execution_count": 73,
   "metadata": {},
   "outputs": [],
   "source": [
    "import pandas as pd\n",
    "import numpy as np\n",
    "import matplotlib.pyplot as plt\n",
    "import seaborn as sns\n",
    "import plotly.express as px\n",
    "import plotly.graph_objects as go\n",
    "import plotly.io as pio\n",
    "pio.renderers.default = 'notebook'"
   ]
  },
  {
   "cell_type": "markdown",
   "metadata": {},
   "source": [
    "<a name=\"2\"></a>\n",
    "## 3 - Exploración\n",
    "\n",
    "\n",
    "<a name=\"3.1\"></a>\n",
    "\n",
    "### 3.1 Datos\n",
    "\n",
    "Los datos utilizados en este análisis están almacenados en un archivo CSV y contienen las siguientes Columnas:\n",
    "* depth\n",
    "* permeability (mD)\n",
    "* porosity (%)\n",
    "\n",
    "Se encuentran valores de permeabilidad y porosidad cada 0.5 ft"
   ]
  },
  {
   "cell_type": "code",
   "execution_count": 74,
   "metadata": {},
   "outputs": [],
   "source": [
    "df=pd.read_csv('garganta_poro.csv')"
   ]
  },
  {
   "cell_type": "code",
   "execution_count": 75,
   "metadata": {},
   "outputs": [
    {
     "data": {
      "text/html": [
       "<div>\n",
       "<style scoped>\n",
       "    .dataframe tbody tr th:only-of-type {\n",
       "        vertical-align: middle;\n",
       "    }\n",
       "\n",
       "    .dataframe tbody tr th {\n",
       "        vertical-align: top;\n",
       "    }\n",
       "\n",
       "    .dataframe thead th {\n",
       "        text-align: right;\n",
       "    }\n",
       "</style>\n",
       "<table border=\"1\" class=\"dataframe\">\n",
       "  <thead>\n",
       "    <tr style=\"text-align: right;\">\n",
       "      <th></th>\n",
       "      <th>depth</th>\n",
       "      <th>permeability</th>\n",
       "      <th>porosity</th>\n",
       "      <th>Pozo</th>\n",
       "    </tr>\n",
       "  </thead>\n",
       "  <tbody>\n",
       "    <tr>\n",
       "      <th>0</th>\n",
       "      <td>7159.5</td>\n",
       "      <td>0.0</td>\n",
       "      <td>0.0</td>\n",
       "      <td>well1</td>\n",
       "    </tr>\n",
       "    <tr>\n",
       "      <th>1</th>\n",
       "      <td>7160.0</td>\n",
       "      <td>0.0</td>\n",
       "      <td>0.0</td>\n",
       "      <td>well1</td>\n",
       "    </tr>\n",
       "    <tr>\n",
       "      <th>2</th>\n",
       "      <td>7160.5</td>\n",
       "      <td>0.0</td>\n",
       "      <td>0.0</td>\n",
       "      <td>well1</td>\n",
       "    </tr>\n",
       "    <tr>\n",
       "      <th>3</th>\n",
       "      <td>7161.0</td>\n",
       "      <td>0.0</td>\n",
       "      <td>0.0</td>\n",
       "      <td>well1</td>\n",
       "    </tr>\n",
       "    <tr>\n",
       "      <th>4</th>\n",
       "      <td>7161.5</td>\n",
       "      <td>0.0</td>\n",
       "      <td>0.0</td>\n",
       "      <td>well1</td>\n",
       "    </tr>\n",
       "  </tbody>\n",
       "</table>\n",
       "</div>"
      ],
      "text/plain": [
       "    depth  permeability  porosity   Pozo\n",
       "0  7159.5           0.0       0.0  well1\n",
       "1  7160.0           0.0       0.0  well1\n",
       "2  7160.5           0.0       0.0  well1\n",
       "3  7161.0           0.0       0.0  well1\n",
       "4  7161.5           0.0       0.0  well1"
      ]
     },
     "execution_count": 75,
     "metadata": {},
     "output_type": "execute_result"
    }
   ],
   "source": [
    "#Se revisan los primeros 5 registros\n",
    "df.head()"
   ]
  },
  {
   "cell_type": "code",
   "execution_count": 76,
   "metadata": {},
   "outputs": [
    {
     "data": {
      "text/plain": [
       "depth           float64\n",
       "permeability    float64\n",
       "porosity        float64\n",
       "Pozo             object\n",
       "dtype: object"
      ]
     },
     "execution_count": 76,
     "metadata": {},
     "output_type": "execute_result"
    }
   ],
   "source": [
    "#Se verifica el tipo de datos\n",
    "df.dtypes"
   ]
  },
  {
   "cell_type": "code",
   "execution_count": 77,
   "metadata": {},
   "outputs": [
    {
     "name": "stdout",
     "output_type": "stream",
     "text": [
      "Estadísticas:\n",
      "              depth  permeability      porosity\n",
      "count  23719.000000  2.370700e+04  23712.000000\n",
      "mean    7942.802247  1.738222e+05     10.230358\n",
      "std      478.857097  1.124583e+06     43.610140\n",
      "min     7060.000000  0.000000e+00      0.000000\n",
      "25%     7568.500000  1.900000e-03      0.003200\n",
      "50%     7897.750000  2.599044e+02      0.155300\n",
      "75%     8218.125000  3.545505e+03      0.214600\n",
      "max     9260.000000  1.995900e+07    335.000000\n",
      "\n",
      "Valores Faltantes:\n",
      "depth            0\n",
      "permeability    12\n",
      "porosity         7\n",
      "Pozo             0\n",
      "dtype: int64\n"
     ]
    }
   ],
   "source": [
    "#Verificación de Estadísticas del df\n",
    "print(f'Estadísticas:\\n{df.describe()}\\n')\n",
    "\n",
    "print(f'Valores Faltantes:\\n{df.isnull().sum()}')"
   ]
  },
  {
   "cell_type": "markdown",
   "metadata": {},
   "source": [
    "Se observa que existen 12 valores faltantes con respecto la columna permeability y 7 conrespecto la columna porosity, en este tipo de casos hay que elegir cual es la mejor opción a reliazar si imputamos un valor anterior para rrelennar el faltante o tomamos alguna métrica de centralización como la media o eliminamos las filas con datos faltantes."
   ]
  },
  {
   "cell_type": "code",
   "execution_count": 78,
   "metadata": {},
   "outputs": [
    {
     "name": "stdout",
     "output_type": "stream",
     "text": [
      "Datos Faltantes a partir de columna porosidad:\n",
      "        depth  permeability  porosity    Pozo\n",
      "1212   7765.5           NaN       NaN   well1\n",
      "3544   7791.0           NaN       NaN   well2\n",
      "5685   8043.5           NaN       NaN   well3\n",
      "9672   8805.5           NaN       NaN   well5\n",
      "18429  7822.0           NaN       NaN   well8\n",
      "20224  7545.0           NaN       NaN   well9\n",
      "22720  8761.0           NaN       NaN  well10\n",
      "\n",
      "Datos Faltantes a partir de columna Permeabilidad:\n",
      "        depth  permeability  porosity    Pozo\n",
      "1212   7765.5           NaN       NaN   well1\n",
      "2211   8265.0           NaN    0.2048   well1\n",
      "3544   7791.0           NaN       NaN   well2\n",
      "4347   8192.5           NaN    0.0000   well2\n",
      "5685   8043.5           NaN       NaN   well3\n",
      "6273   8337.5           NaN    0.0000   well3\n",
      "7977   8032.0           NaN    0.1826   well4\n",
      "9672   8805.5           NaN       NaN   well5\n",
      "18429  7822.0           NaN       NaN   well8\n",
      "19253  8234.0           NaN    0.0000   well8\n",
      "20224  7545.0           NaN       NaN   well9\n",
      "22720  8761.0           NaN       NaN  well10\n"
     ]
    }
   ],
   "source": [
    "print(f'Datos Faltantes a partir de columna porosidad:\\n{df[df['porosity'].isna()]}\\n')\n",
    "print(f'Datos Faltantes a partir de columna Permeabilidad:\\n{df[df['permeability'].isna()]}')"
   ]
  },
  {
   "cell_type": "code",
   "execution_count": 79,
   "metadata": {},
   "outputs": [
    {
     "name": "stdout",
     "output_type": "stream",
     "text": [
      "verificación de nulos luego de eliminarlos:\n",
      "depth           0\n",
      "permeability    0\n",
      "porosity        0\n",
      "Pozo            0\n",
      "dtype: int64\n"
     ]
    }
   ],
   "source": [
    "#Eliminamos los datos faltantes y revisamos si ya no existen en la data\n",
    "df=df.dropna()\n",
    "print(f'verificación de nulos luego de eliminarlos:\\n{df.isnull().sum()}')"
   ]
  },
  {
   "cell_type": "code",
   "execution_count": 82,
   "metadata": {},
   "outputs": [
    {
     "data": {
      "text/html": [
       "<div>\n",
       "<style scoped>\n",
       "    .dataframe tbody tr th:only-of-type {\n",
       "        vertical-align: middle;\n",
       "    }\n",
       "\n",
       "    .dataframe tbody tr th {\n",
       "        vertical-align: top;\n",
       "    }\n",
       "\n",
       "    .dataframe thead th {\n",
       "        text-align: right;\n",
       "    }\n",
       "</style>\n",
       "<table border=\"1\" class=\"dataframe\">\n",
       "  <thead>\n",
       "    <tr style=\"text-align: right;\">\n",
       "      <th></th>\n",
       "      <th>depth</th>\n",
       "      <th>permeability</th>\n",
       "      <th>porosity</th>\n",
       "    </tr>\n",
       "  </thead>\n",
       "  <tbody>\n",
       "    <tr>\n",
       "      <th>count</th>\n",
       "      <td>23707.000000</td>\n",
       "      <td>2.370700e+04</td>\n",
       "      <td>23707.00000</td>\n",
       "    </tr>\n",
       "    <tr>\n",
       "      <th>mean</th>\n",
       "      <td>7942.706036</td>\n",
       "      <td>1.738222e+05</td>\n",
       "      <td>10.23250</td>\n",
       "    </tr>\n",
       "    <tr>\n",
       "      <th>std</th>\n",
       "      <td>478.887293</td>\n",
       "      <td>1.124583e+06</td>\n",
       "      <td>43.61449</td>\n",
       "    </tr>\n",
       "    <tr>\n",
       "      <th>min</th>\n",
       "      <td>7060.000000</td>\n",
       "      <td>0.000000e+00</td>\n",
       "      <td>0.00000</td>\n",
       "    </tr>\n",
       "    <tr>\n",
       "      <th>25%</th>\n",
       "      <td>7568.125000</td>\n",
       "      <td>1.900000e-03</td>\n",
       "      <td>0.00320</td>\n",
       "    </tr>\n",
       "    <tr>\n",
       "      <th>50%</th>\n",
       "      <td>7897.500000</td>\n",
       "      <td>2.599044e+02</td>\n",
       "      <td>0.15530</td>\n",
       "    </tr>\n",
       "    <tr>\n",
       "      <th>75%</th>\n",
       "      <td>8218.000000</td>\n",
       "      <td>3.545505e+03</td>\n",
       "      <td>0.21460</td>\n",
       "    </tr>\n",
       "    <tr>\n",
       "      <th>max</th>\n",
       "      <td>9260.000000</td>\n",
       "      <td>1.995900e+07</td>\n",
       "      <td>335.00000</td>\n",
       "    </tr>\n",
       "  </tbody>\n",
       "</table>\n",
       "</div>"
      ],
      "text/plain": [
       "              depth  permeability     porosity\n",
       "count  23707.000000  2.370700e+04  23707.00000\n",
       "mean    7942.706036  1.738222e+05     10.23250\n",
       "std      478.887293  1.124583e+06     43.61449\n",
       "min     7060.000000  0.000000e+00      0.00000\n",
       "25%     7568.125000  1.900000e-03      0.00320\n",
       "50%     7897.500000  2.599044e+02      0.15530\n",
       "75%     8218.000000  3.545505e+03      0.21460\n",
       "max     9260.000000  1.995900e+07    335.00000"
      ]
     },
     "execution_count": 82,
     "metadata": {},
     "output_type": "execute_result"
    }
   ],
   "source": [
    "df.describe()"
   ]
  },
  {
   "cell_type": "markdown",
   "metadata": {},
   "source": [
    "Con respecto de la columnas porosity y permeability se decide eliminar los valores faltantes ya que solo representan una porción muy pequeña de data por cada pozo."
   ]
  },
  {
   "cell_type": "code",
   "execution_count": 81,
   "metadata": {},
   "outputs": [
    {
     "data": {
      "image/png": "[encoded data removed]",
      "text/plain": [
       "<Figure size 640x480 with 1 Axes>"
      ]
     },
     "metadata": {},
     "output_type": "display_data"
    }
   ],
   "source": [
    "plt.boxplot(df['porosity'])\n",
    "plt.show()"
   ]
  }
 ],
 "metadata": {
  "kernelspec": {
   "display_name": "garganta",
   "language": "python",
   "name": "python3"
  },
  "language_info": {
   "codemirror_mode": {
    "name": "ipython",
    "version": 3
   },
   "file_extension": ".py",
   "mimetype": "text/x-python",
   "name": "python",
   "nbconvert_exporter": "python",
   "pygments_lexer": "ipython3",
   "version": "3.12.8"
  }
 },
 "nbformat": 4,
 "nbformat_minor": 2
}
