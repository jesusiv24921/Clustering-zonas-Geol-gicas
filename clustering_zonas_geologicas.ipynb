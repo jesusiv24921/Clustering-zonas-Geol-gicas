{
 "cells": [
  {
   "cell_type": "markdown",
   "metadata": {},
   "source": [
    "# Clustering de Zonas Geológicas\n",
    "\n",
    "El clustering de zonas geológicas es una técnica de agrupamiento que permite identificar patrones y similitudes entre diferentes intervalos geológicos dentro de un pozo o entre múltiples pozos. Estas agrupaciones son útiles para entender el comportamiento del yacimiento, identificar zonas con características similares y optimizar estrategias de desarrollo, como la selección de fluidos de inyección o el diseño de estimulaciones.\n",
    "\n",
    "El análisis considera variables clave como la **permeabilidad**, **porosidad** y el **diámetro de garganta de poro (R35)**, que se calcula a partir de la permeabilidad y porosidad mediante una relación empírica. Estas características geológicas se analizan para identificar clusters que representan diferentes zonas del yacimiento.\n",
    "\n",
    "\n",
    "## Contenido\n",
    "- [1 - Introducción](#1)\n",
    "  - [1.1 Objetivo](#1.1)\n",
    "- [2 - Imports Necesarios](#2)\n",
    "- [3 - Exploración](#3)\n",
    "  - [3.1 Datos](#3.1)\n",
    "  - [3.2 Visualización](#3.2)\n",
    "- [4 - Funciones Auxiliares](#4)\n",
    "  - [4.1 - Cálculo del R35](#4.1)\n",
    "  - [4.2 - Función de Escalado](#4.2)\n",
    "- [5 - Clustering K-Means](#5)\n",
    "- [6 - Clustering DBSCAN](#6)\n",
    "- [7 - Evaluación del Clustering](#7)\n",
    "  - [7.1 Visualización](#7.1)\n",
    "  - [7.2 Métricas de Evaluación](#7.2)\n"
   ]
  },
  {
   "cell_type": "markdown",
   "metadata": {},
   "source": [
    "<a name=\"1\"></a>\n",
    "\n",
    "## 1 - Introducción \n",
    "En este notebook, exploraremos el uso de técnicas de clustering para identificar patrones y similitudes en zonas geológicas de pozos petroleros. El análisis se centrará en agrupar zonas con características geológicas similares utilizando variables clave como:\n",
    "1. Permeabilidad (mD).\n",
    "2. Porosidad (%).\n",
    "3. Diámetro de garganta de poro (R35).\n",
    "\n",
    "Estas técnicas permiten identificar grupos homogéneos dentro de un yacimiento, lo que facilita la toma de decisiones para optimizar estrategias de inyección, estimulación y desarrollo del campo.\n",
    "\n",
    "<a name=\"1.1\"></a>\n",
    "\n",
    "### 1.1 Objetivo\n",
    "\n",
    "El objetivo de este estudio es aplicar algoritmos de clustering para identificar y analizar zonas geológicas con comportamientos similares dentro de uno o varios pozos. Usaremos datos históricos de mediciones geológicas (permeabilidad, porosidad y R35) para descubrir patrones que apoyen la planificación y optimización de las operaciones. Este análisis se realizará sobre un conjunto de datos estructurado en formato csv.\n"
   ]
  },
  {
   "cell_type": "markdown",
   "metadata": {},
   "source": [
    "<a name=\"2\"></a>\n",
    "## 2 - Imports Necesarios\n",
    "\n",
    "El siguiente bloque de código importará las bibliotecas necesarias para ejecutar este notebook.."
   ]
  },
  {
   "cell_type": "code",
   "execution_count": 1,
   "metadata": {},
   "outputs": [],
   "source": [
    "import pandas as pd\n",
    "import numpy as np\n",
    "import matplotlib.pyplot as plt\n",
    "import seaborn as sns\n",
    "import plotly.express as px\n",
    "import plotly.graph_objects as go\n",
    "import plotly.io as pio\n",
    "pio.renderers.default = 'notebook'"
   ]
  },
  {
   "cell_type": "markdown",
   "metadata": {},
   "source": [
    "<a name=\"2\"></a>\n",
    "## 3 - Exploración\n",
    "\n",
    "\n",
    "<a name=\"3.1\"></a>\n",
    "\n",
    "### 3.1 Datos\n",
    "\n",
    "Los datos utilizados en este análisis están almacenados en un archivo CSV y contienen las siguientes Columnas:\n",
    "* depth\n",
    "* permeability (mD)\n",
    "* porosity (%)\n",
    "\n",
    "Se encuentran valores de permeabilidad y porosidad cada 0.5 ft"
   ]
  },
  {
   "cell_type": "code",
   "execution_count": 8,
   "metadata": {},
   "outputs": [],
   "source": [
    "df=pd.read_csv('garganta_poro.csv')"
   ]
  },
  {
   "cell_type": "code",
   "execution_count": 10,
   "metadata": {},
   "outputs": [
    {
     "data": {
      "text/html": [
       "<div>\n",
       "<style scoped>\n",
       "    .dataframe tbody tr th:only-of-type {\n",
       "        vertical-align: middle;\n",
       "    }\n",
       "\n",
       "    .dataframe tbody tr th {\n",
       "        vertical-align: top;\n",
       "    }\n",
       "\n",
       "    .dataframe thead th {\n",
       "        text-align: right;\n",
       "    }\n",
       "</style>\n",
       "<table border=\"1\" class=\"dataframe\">\n",
       "  <thead>\n",
       "    <tr style=\"text-align: right;\">\n",
       "      <th></th>\n",
       "      <th>depth</th>\n",
       "      <th>permeability</th>\n",
       "      <th>porosity</th>\n",
       "      <th>Pozo</th>\n",
       "    </tr>\n",
       "  </thead>\n",
       "  <tbody>\n",
       "    <tr>\n",
       "      <th>0</th>\n",
       "      <td>7159.5</td>\n",
       "      <td>0.0</td>\n",
       "      <td>0.0</td>\n",
       "      <td>well1</td>\n",
       "    </tr>\n",
       "    <tr>\n",
       "      <th>1</th>\n",
       "      <td>7160.0</td>\n",
       "      <td>0.0</td>\n",
       "      <td>0.0</td>\n",
       "      <td>well1</td>\n",
       "    </tr>\n",
       "    <tr>\n",
       "      <th>2</th>\n",
       "      <td>7160.5</td>\n",
       "      <td>0.0</td>\n",
       "      <td>0.0</td>\n",
       "      <td>well1</td>\n",
       "    </tr>\n",
       "    <tr>\n",
       "      <th>3</th>\n",
       "      <td>7161.0</td>\n",
       "      <td>0.0</td>\n",
       "      <td>0.0</td>\n",
       "      <td>well1</td>\n",
       "    </tr>\n",
       "    <tr>\n",
       "      <th>4</th>\n",
       "      <td>7161.5</td>\n",
       "      <td>0.0</td>\n",
       "      <td>0.0</td>\n",
       "      <td>well1</td>\n",
       "    </tr>\n",
       "  </tbody>\n",
       "</table>\n",
       "</div>"
      ],
      "text/plain": [
       "    depth  permeability  porosity   Pozo\n",
       "0  7159.5           0.0       0.0  well1\n",
       "1  7160.0           0.0       0.0  well1\n",
       "2  7160.5           0.0       0.0  well1\n",
       "3  7161.0           0.0       0.0  well1\n",
       "4  7161.5           0.0       0.0  well1"
      ]
     },
     "execution_count": 10,
     "metadata": {},
     "output_type": "execute_result"
    }
   ],
   "source": [
    "#Se revisan los primeros 5 registros\n",
    "df.head()"
   ]
  },
  {
   "cell_type": "code",
   "execution_count": null,
   "metadata": {},
   "outputs": [],
   "source": []
  }
 ],
 "metadata": {
  "kernelspec": {
   "display_name": "garganta",
   "language": "python",
   "name": "python3"
  },
  "language_info": {
   "codemirror_mode": {
    "name": "ipython",
    "version": 3
   },
   "file_extension": ".py",
   "mimetype": "text/x-python",
   "name": "python",
   "nbconvert_exporter": "python",
   "pygments_lexer": "ipython3",
   "version": "3.12.8"
  }
 },
 "nbformat": 4,
 "nbformat_minor": 2
}
